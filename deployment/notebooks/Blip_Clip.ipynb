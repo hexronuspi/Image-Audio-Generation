{
  "cells": [
    {
      "cell_type": "markdown",
      "metadata": {
        "id": "7ZKVZNVk2lIM"
      },
      "source": [
        "### **TRANSFORMERS**"
      ]
    },
    {
      "cell_type": "code",
      "execution_count": null,
      "metadata": {
        "id": "uXPio1cpzmKg"
      },
      "outputs": [],
      "source": [
        "!pip install transformers --quiet"
      ]
    },
    {
      "cell_type": "code",
      "execution_count": null,
      "metadata": {
        "id": "QYExKf8PFnGK"
      },
      "outputs": [],
      "source": [
        "!pip install clip --quiet"
      ]
    },
    {
      "cell_type": "code",
      "execution_count": 4,
      "metadata": {
        "id": "S0rpDf8iI3DX"
      },
      "outputs": [
        {
          "ename": "ModuleNotFoundError",
          "evalue": "No module named 'transformers'",
          "output_type": "error",
          "traceback": [
            "\u001b[1;31m---------------------------------------------------------------------------\u001b[0m",
            "\u001b[1;31mModuleNotFoundError\u001b[0m                       Traceback (most recent call last)",
            "\u001b[1;32mc:\\Users\\abds0\\OneDrive\\Desktop\\Coding\\datascience\\hackslash\\Caption-Craft\\Blip_Clip.ipynb Cell 6\u001b[0m line \u001b[0;36m2\n\u001b[0;32m      <a href='vscode-notebook-cell:/c%3A/Users/abds0/OneDrive/Desktop/Coding/datascience/hackslash/Caption-Craft/Blip_Clip.ipynb#W5sZmlsZQ%3D%3D?line=0'>1</a>\u001b[0m \u001b[39mfrom\u001b[39;00m \u001b[39mPIL\u001b[39;00m \u001b[39mimport\u001b[39;00m Image\n\u001b[1;32m----> <a href='vscode-notebook-cell:/c%3A/Users/abds0/OneDrive/Desktop/Coding/datascience/hackslash/Caption-Craft/Blip_Clip.ipynb#W5sZmlsZQ%3D%3D?line=1'>2</a>\u001b[0m \u001b[39mfrom\u001b[39;00m \u001b[39mtransformers\u001b[39;00m \u001b[39mimport\u001b[39;00m CLIPImageProcessor, CLIPModel\n\u001b[0;32m      <a href='vscode-notebook-cell:/c%3A/Users/abds0/OneDrive/Desktop/Coding/datascience/hackslash/Caption-Craft/Blip_Clip.ipynb#W5sZmlsZQ%3D%3D?line=3'>4</a>\u001b[0m \u001b[39m# Load the CLIP model and processor#openai/clip-vit-base-patch32\u001b[39;00m\n\u001b[0;32m      <a href='vscode-notebook-cell:/c%3A/Users/abds0/OneDrive/Desktop/Coding/datascience/hackslash/Caption-Craft/Blip_Clip.ipynb#W5sZmlsZQ%3D%3D?line=4'>5</a>\u001b[0m clip_model \u001b[39m=\u001b[39m CLIPModel\u001b[39m.\u001b[39mfrom_pretrained(\u001b[39m\"\u001b[39m\u001b[39mopenai/clip-vit-base-patch32\u001b[39m\u001b[39m\"\u001b[39m)\u001b[39m.\u001b[39mvision_model\n",
            "\u001b[1;31mModuleNotFoundError\u001b[0m: No module named 'transformers'"
          ]
        }
      ],
      "source": [
        "\n",
        "from PIL import Image\n",
        "from transformers import CLIPImageProcessor, CLIPModel\n",
        "\n",
        "# Load the CLIP model and processor#openai/clip-vit-base-patch32\n",
        "clip_model = CLIPModel.from_pretrained(\"openai/clip-vit-base-patch32\").vision_model\n",
        "clip_processor = CLIPImageProcessor.from_pretrained(\"openai/clip-vit-base-patch32\")\n",
        "\n",
        "# Load your image\n",
        "image_path = \"/content/sample_image.jpeg\"  # Replace with the path to your image\n",
        "image = Image.open(image_path)\n",
        "\n",
        "# Preprocess the image\n",
        "inputs = clip_processor(text=None, images=image, return_tensors=\"pt\")\n",
        "\n"
      ]
    },
    {
      "cell_type": "code",
      "execution_count": null,
      "metadata": {
        "id": "WJ9gBW06KjBt"
      },
      "outputs": [],
      "source": [
        "# Encode the image\n",
        "with torch.no_grad():\n",
        "    image_features = clip_model(**inputs).pooler_output\n",
        "\n",
        "\n",
        "# The `image_features` now contains the encoded image as a tensor\n",
        "\n"
      ]
    },
    {
      "cell_type": "code",
      "execution_count": null,
      "metadata": {
        "id": "446beh18oo9J"
      },
      "outputs": [],
      "source": [
        "ind = torch.argmax(image_features,dim=-1)"
      ]
    },
    {
      "cell_type": "code",
      "execution_count": null,
      "metadata": {},
      "outputs": [],
      "source": [
        "from transformers import GPT2LMHeadModel, GPT2Tokenizer\n",
        "import torch"
      ]
    },
    {
      "cell_type": "code",
      "execution_count": null,
      "metadata": {},
      "outputs": [],
      "source": [
        "# Initialize the GPT-2 tokenizer and model\n",
        "gpt2_tokenizer = GPT2Tokenizer.from_pretrained('gpt2')\n",
        "gpt2_model = GPT2LMHeadModel.from_pretrained('gpt2')\n",
        "\n"
      ]
    },
    {
      "cell_type": "code",
      "execution_count": null,
      "metadata": {},
      "outputs": [],
      "source": [
        "# Generate text based on the encoded tokens\n",
        "input_ids = ind.unsqueeze(0)  # Add batch dimension\n"
      ]
    },
    {
      "cell_type": "code",
      "execution_count": null,
      "metadata": {},
      "outputs": [],
      "source": [
        "with torch.no_grad():\n",
        "    generated_output = gpt2_model.generate(input_ids, max_length=50, num_return_sequences=1)\n",
        "\n",
        "# Decode the output\n",
        "generated_text = gpt2_tokenizer.decode(generated_output[0], skip_special_tokens=True)\n",
        "\n",
        "print(\"Generated text:\")\n",
        "print(generated_text)\n"
      ]
    },
    {
      "cell_type": "code",
      "execution_count": null,
      "metadata": {},
      "outputs": [],
      "source": [
        "gpt2_model(inputs_embeds=torch.randn((1,768))).logits.shape"
      ]
    },
    {
      "cell_type": "code",
      "execution_count": null,
      "metadata": {},
      "outputs": [],
      "source": [
        "import gdown\n",
        "\n",
        "MODEL_WEIGHTS = {\n",
        "    \"L\": \"1Gh32arzhW06C1ZJyzcJSSfdJDi3RgWoG\",\n",
        "    \"S\": \"1pSQruQyg8KJq6VmzhMLFbT_VaHJMdlWF\",\n",
        "}\n",
        "\n",
        "\n",
        "def download_model(checkpoint_fpath, model_size=\"S\"):\n",
        "    \"\"\"\n",
        "    Downloads weights from Google Drive.\n",
        "    \"\"\"\n",
        "\n",
        "    download_id = MODEL_WEIGHTS[model_size.strip().upper()]\n",
        "\n",
        "    gdown.download(\n",
        "        f\"https://drive.google.com/uc?id={download_id}\", checkpoint_fpath, quiet=False\n",
        "    )\n",
        "download_model(\"/content/drive/MyDrive/Drivebit\")"
      ]
    },
    {
      "cell_type": "code",
      "execution_count": 3,
      "metadata": {},
      "outputs": [
        {
          "name": "stderr",
          "output_type": "stream",
          "text": [
            "'export' is not recognized as an internal or external command,\n",
            "operable program or batch file.\n"
          ]
        },
        {
          "name": "stderr",
          "output_type": "stream",
          "text": [
            "'export' is not recognized as an internal or external command,\n",
            "operable program or batch file.\n",
            "The syntax of the command is incorrect.\n",
            "cp: cannot stat 'kaggle.json': No such file or directory\n",
            "chmod: cannot access '~/.kaggle/kaggle.json': No such file or directory\n",
            "'kaggle' is not recognized as an internal or external command,\n",
            "operable program or batch file.\n"
          ]
        },
        {
          "data": {
            "text/plain": [
              "CompletedProcess(args=['unzip', '/content/flickr8k.zip', '-d', '/content/flickr8k'], returncode=9)"
            ]
          },
          "execution_count": 3,
          "metadata": {},
          "output_type": "execute_result"
        }
      ],
      "source": [
        "!export KAGGLE_USERNAME=iamtars\n",
        "!export KAGGLE_KEY=e10e91505fe6ab8a093cc0f348efb35e\n",
        "! mkdir ~/.kaggle\n",
        "! cp kaggle.json ~/.kaggle/\n",
        "! chmod 600 ~/.kaggle/kaggle.json\n",
        "!kaggle datasets download -d adityajn105/flickr8k\n",
        "import subprocess\n",
        "zip_file_path = \"/content/flickr8k.zip\"\n",
        "extract_path = \"/content/flickr8k\"\n",
        "subprocess.run([\"unzip\", zip_file_path, \"-d\", extract_path])"
      ]
    },
    {
      "cell_type": "code",
      "execution_count": null,
      "metadata": {},
      "outputs": [],
      "source": [
        "from torch.utils.data import Dataset, DataLoader\n",
        "import os\n",
        "from torchvision.io import read_image\n",
        "from torchvision import transforms\n",
        "from PIL import Image\n",
        "\n",
        "transform = transforms.Compose([\n",
        "    transforms.Resize((224, 224)),\n",
        "    transforms.ToTensor()\n",
        "])\n",
        "\n",
        "\n",
        "class Dataset(Dataset):\n",
        "    def __init__(self):\n",
        "        self.imgspath = os.listdir(\"/content/flickr8k/Images\")\n",
        "        with open(\"/content/flickr8k/captions.txt\", 'r') as file:\n",
        "          lines = file.readlines()\n",
        "        self.captions = {}\n",
        "        lines = lines[1:]\n",
        "        for line in lines:\n",
        "          if ',' in line:\n",
        "            image, caption = line.strip().split(\",\", 1)\n",
        "            self.captions[image] = caption\n",
        "    def __len__(self):\n",
        "        return len(self.imgspath)\n",
        "\n",
        "    def __getitem__(self, idx):\n",
        "        img = os.path.join(\"/content/flickr8k/Images\",self.imgspath[idx])\n",
        "        label = self.captions[self.imgspath[idx]]\n",
        "        img = Image.open(img)\n",
        "        img = transform(img)\n",
        "        return img, (label)\n",
        "batch_size = 32\n",
        "dataset = Dataset()\n",
        "data_loader = DataLoader(dataset, batch_size=batch_size, shuffle=False)\n"
      ]
    },
    {
      "cell_type": "code",
      "execution_count": null,
      "metadata": {},
      "outputs": [],
      "source": [
        "import matplotlib.pyplot as plt\n",
        "import numpy as np\n",
        "\n",
        "# Function to display a batch of images with their corresponding labels\n",
        "def show_images(images, labels):\n",
        "    num_images = len(images)\n",
        "    rows = int(np.ceil(num_images / 2))  # Display 2 images per row\n",
        "    fig, axs = plt.subplots(rows, 2, figsize=(20, 5 * rows))\n",
        "    axs = axs.ravel()\n",
        "    for i in range(rows * 2):\n",
        "        if i < num_images:\n",
        "            axs[i].imshow(np.transpose(images[i], (1, 2, 0)))  # Transpose to (H, W, C) for displaying with matplotlib\n",
        "            axs[i].set_title(labels[i])\n",
        "            axs[i].axis('off')\n",
        "        else:\n",
        "            axs[i].axis('off')  # Hide empty subplots\n",
        "    plt.show()\n",
        "\n",
        "# Iterate through the data loader and display a batch of images\n",
        "for batch in data_loader:\n",
        "    images, labels = batch\n",
        "    show_images(images, labels)\n",
        "    break  # Display only the first batch for simplicity\n"
      ]
    },
    {
      "cell_type": "code",
      "execution_count": null,
      "metadata": {},
      "outputs": [],
      "source": [
        "len(data_loader)"
      ]
    }
  ],
  "metadata": {
    "colab": {
      "provenance": []
    },
    "kernelspec": {
      "display_name": "Python 3",
      "name": "python3"
    },
    "language_info": {
      "codemirror_mode": {
        "name": "ipython",
        "version": 3
      },
      "file_extension": ".py",
      "mimetype": "text/x-python",
      "name": "python",
      "nbconvert_exporter": "python",
      "pygments_lexer": "ipython3",
      "version": "3.12.0"
    }
  },
  "nbformat": 4,
  "nbformat_minor": 0
}
